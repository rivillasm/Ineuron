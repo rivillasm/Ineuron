{
 "cells": [
  {
   "cell_type": "code",
   "execution_count": 1,
   "metadata": {},
   "outputs": [],
   "source": [
    "class person:\n",
    "    def __init__(self,name,surname,yob):  # implementing a method\n",
    "        self.name=name\n",
    "        self.surname=surname\n",
    "        self.yob=yob"
   ]
  },
  {
   "cell_type": "code",
   "execution_count": 2,
   "metadata": {},
   "outputs": [],
   "source": [
    "p=person(\"mario\",\"rivillas\",52)  # object from the person class"
   ]
  },
  {
   "cell_type": "code",
   "execution_count": 3,
   "metadata": {},
   "outputs": [
    {
     "name": "stdout",
     "output_type": "stream",
     "text": [
      "<__main__.person object at 0x0000015EC3E63B70>\n"
     ]
    }
   ],
   "source": [
    "print(p)"
   ]
  },
  {
   "cell_type": "code",
   "execution_count": 4,
   "metadata": {},
   "outputs": [],
   "source": [
    "s=person(\"diana\",\"rocio\",50)"
   ]
  },
  {
   "cell_type": "code",
   "execution_count": 5,
   "metadata": {},
   "outputs": [
    {
     "data": {
      "text/plain": [
       "'diana'"
      ]
     },
     "execution_count": 5,
     "metadata": {},
     "output_type": "execute_result"
    }
   ],
   "source": [
    "s.name"
   ]
  },
  {
   "cell_type": "code",
   "execution_count": 6,
   "metadata": {},
   "outputs": [
    {
     "data": {
      "text/plain": [
       "'mario'"
      ]
     },
     "execution_count": 6,
     "metadata": {},
     "output_type": "execute_result"
    }
   ],
   "source": [
    "p.name"
   ]
  },
  {
   "cell_type": "markdown",
   "metadata": {},
   "source": [
    "## passing data to the class by using prebuild methods such as init and str"
   ]
  },
  {
   "cell_type": "code",
   "execution_count": 15,
   "metadata": {},
   "outputs": [],
   "source": [
    "# method\n",
    "class person:\n",
    "    def __init__(self,name,surname,yob):  # implementing a method, used to pass info to the class\n",
    "        self.name=name\n",
    "        self.surname=surname\n",
    "        self.yob=yob\n",
    "    def test(self,n,m):     # creating own method\n",
    "        return n+m+self.yob # to access the yob variable internally use always self.\n",
    "    def __str__(self):      # creating an inbuuilt method\n",
    "        return \"%s is the first name and the family is %s and the year of brith is %d\" %(self.name, self.surname, self.yob)"
   ]
  },
  {
   "cell_type": "code",
   "execution_count": 16,
   "metadata": {},
   "outputs": [
    {
     "data": {
      "text/plain": [
       "1152"
      ]
     },
     "execution_count": 16,
     "metadata": {},
     "output_type": "execute_result"
    }
   ],
   "source": [
    "p = person(\"mario\",\"alejandro\",52)\n",
    "p.test(1000,100)   # using the created method"
   ]
  },
  {
   "cell_type": "code",
   "execution_count": 17,
   "metadata": {},
   "outputs": [
    {
     "name": "stdout",
     "output_type": "stream",
     "text": [
      "mario is the first name and the family is alejandro and the year of brith is 52\n"
     ]
    }
   ],
   "source": [
    "print(p)"
   ]
  },
  {
   "cell_type": "code",
   "execution_count": null,
   "metadata": {},
   "outputs": [],
   "source": []
  },
  {
   "cell_type": "markdown",
   "metadata": {},
   "source": [
    "## passing data to the class by using empty classes"
   ]
  },
  {
   "cell_type": "code",
   "execution_count": 20,
   "metadata": {},
   "outputs": [],
   "source": [
    "\n",
    "class test2():\n",
    "    pass"
   ]
  },
  {
   "cell_type": "code",
   "execution_count": 22,
   "metadata": {},
   "outputs": [],
   "source": [
    "p = test2()\n",
    "p.name = \"Diliara\"\n",
    "p.surname = \"khairoullina\"\n",
    "p.yob = 48"
   ]
  },
  {
   "cell_type": "code",
   "execution_count": 23,
   "metadata": {},
   "outputs": [
    {
     "data": {
      "text/plain": [
       "'Diliara'"
      ]
     },
     "execution_count": 23,
     "metadata": {},
     "output_type": "execute_result"
    }
   ],
   "source": [
    "p.name"
   ]
  },
  {
   "cell_type": "code",
   "execution_count": 24,
   "metadata": {},
   "outputs": [],
   "source": [
    "s = test2()\n",
    "s.name=\"Diliara2\"\n",
    "s.surname=\"khairoullina2\"\n"
   ]
  },
  {
   "cell_type": "code",
   "execution_count": 25,
   "metadata": {},
   "outputs": [
    {
     "data": {
      "text/plain": [
       "'Diliara2'"
      ]
     },
     "execution_count": 25,
     "metadata": {},
     "output_type": "execute_result"
    }
   ],
   "source": [
    "s.name"
   ]
  },
  {
   "cell_type": "markdown",
   "metadata": {},
   "source": [
    "## passing data to the class by using own methods"
   ]
  },
  {
   "cell_type": "code",
   "execution_count": 27,
   "metadata": {},
   "outputs": [],
   "source": [
    "# different way to pass data to the class\n",
    "\n",
    "class person:\n",
    "    def pass_name(self,name):  # created own method\n",
    "        self.name = name\n",
    "    def pass_surname(self, surname):\n",
    "        self.surname = surname\n",
    "    def pass_yob(self, yob):\n",
    "        self.yob = yob"
   ]
  },
  {
   "cell_type": "code",
   "execution_count": 28,
   "metadata": {},
   "outputs": [],
   "source": [
    "p = person()"
   ]
  },
  {
   "cell_type": "code",
   "execution_count": 30,
   "metadata": {},
   "outputs": [
    {
     "data": {
      "text/plain": [
       "'mario2'"
      ]
     },
     "execution_count": 30,
     "metadata": {},
     "output_type": "execute_result"
    }
   ],
   "source": [
    "p.pass_name(\"mario2\")\n",
    "p.pass_surname(\"rivillas2\")\n",
    "p.pass_yob(52)\n",
    "p.name\n"
   ]
  },
  {
   "cell_type": "markdown",
   "metadata": {},
   "source": [
    "# Abstraction\n",
    "* public - variables are accessed from anywhere, \n",
    "* protected and \n",
    "* private keys - access variables only inside the class"
   ]
  },
  {
   "cell_type": "code",
   "execution_count": 1,
   "metadata": {},
   "outputs": [],
   "source": [
    "# method\n",
    "class person:\n",
    "    def __init__(self,name,surname,yob):  # implementing a method, used to pass info to the class\n",
    "        self._name=name\n",
    "        self._surname=surname\n",
    "        self._yob=yob\n",
    "    def test(self,n,m):     # creating own method\n",
    "        return n+m+self._yob # to access the yob variable internally use always self.\n",
    "    def __str__(self):      # creating an inbuuilt method\n",
    "        return \"%s is the first name and the family is %s and the year of brith is %d\" %(self._name, self._surname, self._yob)"
   ]
  },
  {
   "cell_type": "code",
   "execution_count": 2,
   "metadata": {},
   "outputs": [],
   "source": [
    "p = person(\"mario3\",\"rivillas3\",52)"
   ]
  },
  {
   "cell_type": "code",
   "execution_count": 4,
   "metadata": {},
   "outputs": [
    {
     "data": {
      "text/plain": [
       "'mario3'"
      ]
     },
     "execution_count": 4,
     "metadata": {},
     "output_type": "execute_result"
    }
   ],
   "source": [
    "# protected notation using underscore\n",
    "p._name"
   ]
  },
  {
   "cell_type": "code",
   "execution_count": 5,
   "metadata": {},
   "outputs": [
    {
     "data": {
      "text/plain": [
       "{'_name': 'mario3', '_surname': 'rivillas3', '_yob': 52}"
      ]
     },
     "execution_count": 5,
     "metadata": {},
     "output_type": "execute_result"
    }
   ],
   "source": [
    "p.__dict__  # inbuilt method"
   ]
  },
  {
   "cell_type": "code",
   "execution_count": 6,
   "metadata": {},
   "outputs": [],
   "source": [
    "# method\n",
    "class person:\n",
    "    def __init__(self,name,surname,yob):  # implementing a method, used to pass info to the class\n",
    "        self.__name=name        # NOTE double underscore here\n",
    "        self._surname=surname\n",
    "        self._yob=yob\n",
    "    def test(self,n,m):     # creating own method\n",
    "        return n+m+self._yob # to access the yob variable internally use always self.\n",
    "    def __str__(self):      # creating an inbuuilt method\n",
    "        return \"%s is the first name and the family is %s and the year of brith is %d\" %(self._name, self._surname, self._yob)"
   ]
  },
  {
   "cell_type": "code",
   "execution_count": 7,
   "metadata": {},
   "outputs": [],
   "source": [
    "p = person(\"mario4\",\"rivillas5\",52)"
   ]
  },
  {
   "cell_type": "code",
   "execution_count": 8,
   "metadata": {},
   "outputs": [
    {
     "data": {
      "text/plain": [
       "{'_person__name': 'mario4', '_surname': 'rivillas5', '_yob': 52}"
      ]
     },
     "execution_count": 8,
     "metadata": {},
     "output_type": "execute_result"
    }
   ],
   "source": [
    "# NOTICE how the __name gets saved inside of the class.... the class name is prefixed _person\n",
    "# since double underscore is a private variable\n",
    "\n",
    "p.__dict__  # inbuilt method"
   ]
  },
  {
   "cell_type": "code",
   "execution_count": null,
   "metadata": {},
   "outputs": [],
   "source": [
    "# search for python abstraction"
   ]
  },
  {
   "cell_type": "code",
   "execution_count": null,
   "metadata": {},
   "outputs": [],
   "source": []
  },
  {
   "cell_type": "markdown",
   "metadata": {},
   "source": [
    "# inheritance"
   ]
  },
  {
   "cell_type": "code",
   "execution_count": 17,
   "metadata": {},
   "outputs": [],
   "source": [
    "# method\n",
    "class person:\n",
    "    def __init__(self,name,surname,yob):  # implementing a method, used to pass info to the class\n",
    "        self.name=name        # NOTE double underscore here\n",
    "        self.surname=surname\n",
    "        self.yob=yob\n",
    "    def test(self,n,m):     # creating own method\n",
    "        return n+m+self.yob # to access the yob variable internally use always self.\n",
    "    def __str__(self):      # creating an inbuuilt method\n",
    "        return \"%s is the first name and the family is %s and the year of brith is %d\" %(self.name, self.surname, self.yob)"
   ]
  },
  {
   "cell_type": "code",
   "execution_count": 18,
   "metadata": {},
   "outputs": [],
   "source": [
    "class student(person):   # student class inherets person class variables\n",
    "    def __init__(self,roll_no, college_name, *args):    # *args to allow more properties unknown at the moment\n",
    "        super(student,self).__init__(*args)     # person is a super class for student\n",
    "                                                # so is the same as writing person.__init__ \n",
    "                                                # which means student now knows about the persons variables           \n",
    "        self.roll_no = roll_no\n",
    "        self.college_name = college_name\n",
    "        \n",
    "stud = student(1000, \"nacional\",\"mario6\",\"rivillas6\",52,)  # expects all the variables to be assigned, \n",
    "                                                           # the persons and the student variables\n",
    "                                                           # watch for the order"
   ]
  },
  {
   "cell_type": "code",
   "execution_count": 19,
   "metadata": {},
   "outputs": [
    {
     "data": {
      "text/plain": [
       "'mario6'"
      ]
     },
     "execution_count": 19,
     "metadata": {},
     "output_type": "execute_result"
    }
   ],
   "source": [
    "stud.name"
   ]
  },
  {
   "cell_type": "code",
   "execution_count": 20,
   "metadata": {},
   "outputs": [
    {
     "data": {
      "text/plain": [
       "1152"
      ]
     },
     "execution_count": 20,
     "metadata": {},
     "output_type": "execute_result"
    }
   ],
   "source": [
    "stud.test(100,1000)   # student class can reuse the test method from the person class, inhereted"
   ]
  },
  {
   "cell_type": "code",
   "execution_count": 25,
   "metadata": {},
   "outputs": [],
   "source": [
    "# multiple inheritance, just watch for the repeated method names\n",
    "\n",
    "class a:\n",
    "    def test(self):\n",
    "        print(\" my name is mario7 \")\n",
    "\n",
    "class b:\n",
    "    def test(self):\n",
    "        print(\" my family name is rivillas7 \")\n",
    "        \n",
    "class c(a,b):   # the order matters here\n",
    "    obja = a()\n",
    "    objb = b()\n",
    "\n",
    "    "
   ]
  },
  {
   "cell_type": "code",
   "execution_count": 26,
   "metadata": {},
   "outputs": [
    {
     "name": "stdout",
     "output_type": "stream",
     "text": [
      " my name is mario7 \n"
     ]
    }
   ],
   "source": [
    "objc = c()\n",
    "objc.test()    # notice that you get the first given method, a - name in this case"
   ]
  },
  {
   "cell_type": "code",
   "execution_count": null,
   "metadata": {},
   "outputs": [],
   "source": []
  }
 ],
 "metadata": {
  "kernelspec": {
   "display_name": "Python 3",
   "language": "python",
   "name": "python3"
  },
  "language_info": {
   "codemirror_mode": {
    "name": "ipython",
    "version": 3
   },
   "file_extension": ".py",
   "mimetype": "text/x-python",
   "name": "python",
   "nbconvert_exporter": "python",
   "pygments_lexer": "ipython3",
   "version": "3.6.5"
  }
 },
 "nbformat": 4,
 "nbformat_minor": 4
}
