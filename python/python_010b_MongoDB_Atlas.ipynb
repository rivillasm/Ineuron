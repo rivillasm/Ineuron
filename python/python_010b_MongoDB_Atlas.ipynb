{
 "cells": [
  {
   "cell_type": "markdown",
   "metadata": {},
   "source": [
    "## 19.3.3 MongoDB Atlas\n",
    "\n",
    "* Atlas is a mongoDB service on cloud. It uses AWS, Azure and GCP cloud services to cater developers all around the globe for managing mongoDB databases.\n",
    "* Its a globally available cloud database service for all kinds of modern applications.\n",
    "* Visit [ATLAS HOMEPAGE](https://www.mongodb.com/cloud/atlas) for more details.\n",
    "\n",
    "\n",
    "Lets see how to utilize this services - "
   ]
  },
  {
   "cell_type": "markdown",
   "metadata": {},
   "source": [
    "### 19.3.3.1 Login or SignUp \n",
    "\n",
    "* Signup to your monngoDB atlas account at [here](https://account.mongodb.com/account/login)"
   ]
  },
  {
   "cell_type": "code",
   "execution_count": null,
   "metadata": {},
   "outputs": [],
   "source": []
  }
 ],
 "metadata": {
  "kernelspec": {
   "display_name": "Python 3",
   "language": "python",
   "name": "python3"
  },
  "language_info": {
   "codemirror_mode": {
    "name": "ipython",
    "version": 3
   },
   "file_extension": ".py",
   "mimetype": "text/x-python",
   "name": "python",
   "nbconvert_exporter": "python",
   "pygments_lexer": "ipython3",
   "version": "3.6.5"
  }
 },
 "nbformat": 4,
 "nbformat_minor": 4
}
