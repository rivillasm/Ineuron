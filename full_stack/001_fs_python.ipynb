{
 "cells": [
  {
   "cell_type": "code",
   "execution_count": 34,
   "metadata": {},
   "outputs": [
    {
     "name": "stdout",
     "output_type": "stream",
     "text": [
      "        0 1 2 3 4 5 \n",
      "         0 1 2 3 4 \n",
      "          0 1 2 3 \n",
      "           0 1 2 \n",
      "            0 1 \n",
      "             0 \n"
     ]
    }
   ],
   "source": [
    "n=5\n",
    "k=2*n-2\n",
    "\n",
    "for i in range(n,-1,-1):\n",
    "    #print(i)#, end=\" \")\n",
    "    for j in range(k,0,-1):\n",
    "        print(end=\" \")\n",
    "    k = k + 1\n",
    "    for l in range(0, i+1):\n",
    "        print(l,end=\" \")\n",
    "    print(\"\\r\")\n",
    "\n"
   ]
  },
  {
   "cell_type": "code",
   "execution_count": 55,
   "metadata": {},
   "outputs": [
    {
     "name": "stdout",
     "output_type": "stream",
     "text": [
      "               * \n",
      "              * * \n",
      "             * * * \n",
      "            * * * * \n",
      "           * * * * * \n",
      "          * * * * * * \n",
      "         * * * * * * * \n",
      "        * * * * * * * * \n",
      "       * * * * * * * * * \n",
      "      * * * * * * * * * * \n",
      "     * * * * * * * * * * * \n",
      "    * * * * * * * * * * * * \n",
      "   * * * * * * * * * * * * * \n",
      "  * * * * * * * * * * * * * * \n",
      " * * * * * * * * * * * * * * * \n",
      "* * * * * * * * * * * * * * * * \n"
     ]
    }
   ],
   "source": [
    "n = 15\n",
    "k=0\n",
    "while(k<n+1):\n",
    "    #print(n,k,n-k)\n",
    "    print(\" \"*(n-k) +\"* \"*(k+1))\n",
    "    k = k+1"
   ]
  },
  {
   "cell_type": "code",
   "execution_count": 56,
   "metadata": {},
   "outputs": [
    {
     "data": {
      "text/plain": [
       "2"
      ]
     },
     "execution_count": 56,
     "metadata": {},
     "output_type": "execute_result"
    }
   ],
   "source": [
    "s = \"mario rivillas\"\n",
    "\n",
    "s.find(\"rio\")"
   ]
  },
  {
   "cell_type": "code",
   "execution_count": 57,
   "metadata": {},
   "outputs": [
    {
     "data": {
      "text/plain": [
       "3"
      ]
     },
     "execution_count": 57,
     "metadata": {},
     "output_type": "execute_result"
    }
   ],
   "source": [
    "s.count(\"i\")"
   ]
  },
  {
   "cell_type": "code",
   "execution_count": 58,
   "metadata": {},
   "outputs": [
    {
     "data": {
      "text/plain": [
       "'marIo rIvIllas'"
      ]
     },
     "execution_count": 58,
     "metadata": {},
     "output_type": "execute_result"
    }
   ],
   "source": [
    "s.replace(\"i\",\"I\")"
   ]
  },
  {
   "cell_type": "code",
   "execution_count": 59,
   "metadata": {},
   "outputs": [
    {
     "data": {
      "text/plain": [
       "'we all are a part of full stack'"
      ]
     },
     "execution_count": 59,
     "metadata": {},
     "output_type": "execute_result"
    }
   ],
   "source": [
    "s = \"we all are a part of Full stack\"\n",
    "s.lower()"
   ]
  },
  {
   "cell_type": "code",
   "execution_count": 69,
   "metadata": {},
   "outputs": [
    {
     "data": {
      "text/plain": [
       "[3, 7, 11, 14, 28]"
      ]
     },
     "execution_count": 69,
     "metadata": {},
     "output_type": "execute_result"
    }
   ],
   "source": [
    "index_list = []\n",
    "for i,ltr in enumerate(s):\n",
    "    if ltr==\"a\":\n",
    "        index_list.append(i)\n",
    "index_list\n"
   ]
  },
  {
   "cell_type": "code",
   "execution_count": 73,
   "metadata": {},
   "outputs": [
    {
     "data": {
      "text/plain": [
       "[3, 7, 11, 14, 28]"
      ]
     },
     "execution_count": 73,
     "metadata": {},
     "output_type": "execute_result"
    }
   ],
   "source": [
    "index_list = [i for i in range(len(s)) if s[i]==\"a\"]\n",
    "index_list"
   ]
  },
  {
   "cell_type": "code",
   "execution_count": 70,
   "metadata": {},
   "outputs": [
    {
     "data": {
      "text/plain": [
       "'we ineuronll ineuronre ineuron pineuronrt of Full stineuronck'"
      ]
     },
     "execution_count": 70,
     "metadata": {},
     "output_type": "execute_result"
    }
   ],
   "source": [
    "s.replace(\"a\",\"ineuron\")"
   ]
  },
  {
   "cell_type": "code",
   "execution_count": 71,
   "metadata": {},
   "outputs": [
    {
     "data": {
      "text/plain": [
       "['we', 'all', 'are', 'a', 'part', 'of', 'Full', 'stack']"
      ]
     },
     "execution_count": 71,
     "metadata": {},
     "output_type": "execute_result"
    }
   ],
   "source": [
    "s.split()"
   ]
  },
  {
   "cell_type": "markdown",
   "metadata": {},
   "source": [
    "# Tuples\n",
    "* can be nested but is not mutable"
   ]
  },
  {
   "cell_type": "code",
   "execution_count": 2,
   "metadata": {},
   "outputs": [
    {
     "data": {
      "text/plain": [
       "3"
      ]
     },
     "execution_count": 2,
     "metadata": {},
     "output_type": "execute_result"
    }
   ],
   "source": [
    "t1=(1,2,5,6,3,5,1,9,5,7)\n",
    "t1.count(5)"
   ]
  },
  {
   "cell_type": "code",
   "execution_count": 3,
   "metadata": {},
   "outputs": [
    {
     "data": {
      "text/plain": [
       "2"
      ]
     },
     "execution_count": 3,
     "metadata": {},
     "output_type": "execute_result"
    }
   ],
   "source": [
    "t1.index(5)"
   ]
  },
  {
   "cell_type": "code",
   "execution_count": 5,
   "metadata": {},
   "outputs": [
    {
     "data": {
      "text/plain": [
       "1"
      ]
     },
     "execution_count": 5,
     "metadata": {},
     "output_type": "execute_result"
    }
   ],
   "source": [
    "min(t1)"
   ]
  },
  {
   "cell_type": "code",
   "execution_count": 6,
   "metadata": {},
   "outputs": [
    {
     "data": {
      "text/plain": [
       "9"
      ]
     },
     "execution_count": 6,
     "metadata": {},
     "output_type": "execute_result"
    }
   ],
   "source": [
    "max(t1)"
   ]
  },
  {
   "cell_type": "code",
   "execution_count": 27,
   "metadata": {},
   "outputs": [
    {
     "data": {
      "text/plain": [
       "(12,)"
      ]
     },
     "execution_count": 27,
     "metadata": {},
     "output_type": "execute_result"
    }
   ],
   "source": [
    "t2=(12,)\n",
    "t2"
   ]
  },
  {
   "cell_type": "code",
   "execution_count": 28,
   "metadata": {},
   "outputs": [
    {
     "data": {
      "text/plain": [
       "(1, 2, 5, 6, 3, 5, 1, 9, 5, 7, 12)"
      ]
     },
     "execution_count": 28,
     "metadata": {},
     "output_type": "execute_result"
    }
   ],
   "source": [
    "# can not insert but can add two tuples and create a third one\n",
    "t1+t2"
   ]
  },
  {
   "cell_type": "code",
   "execution_count": 29,
   "metadata": {},
   "outputs": [
    {
     "data": {
      "text/plain": [
       "'(12,)'"
      ]
     },
     "execution_count": 29,
     "metadata": {},
     "output_type": "execute_result"
    }
   ],
   "source": [
    "str(t2)"
   ]
  },
  {
   "cell_type": "code",
   "execution_count": 31,
   "metadata": {},
   "outputs": [
    {
     "data": {
      "text/plain": [
       "(1, 2, 5, 6, 3, 12, 5, 1, 9, 5, 7)"
      ]
     },
     "execution_count": 31,
     "metadata": {},
     "output_type": "execute_result"
    }
   ],
   "source": [
    "# can insert if first use a list\n",
    "\n",
    "l1 = list(t1)\n",
    "l1.insert(5,int(t2[0]))\n",
    "t1 = tuple(l1)\n",
    "t1"
   ]
  },
  {
   "cell_type": "markdown",
   "metadata": {},
   "source": [
    "# Set\n",
    "* is not nested, it is a flatten collection\n",
    "* does not allow a repeated number, it should be unique\n",
    "* s1+s2 - operation not allowed\n",
    "* s1*4 - operation not allowed"
   ]
  },
  {
   "cell_type": "code",
   "execution_count": 32,
   "metadata": {},
   "outputs": [
    {
     "data": {
      "text/plain": [
       "[1, 2, 5, 6, 3, 12, 5, 1, 9, 5, 7]"
      ]
     },
     "execution_count": 32,
     "metadata": {},
     "output_type": "execute_result"
    }
   ],
   "source": [
    "l1"
   ]
  },
  {
   "cell_type": "code",
   "execution_count": 33,
   "metadata": {},
   "outputs": [
    {
     "data": {
      "text/plain": [
       "{1, 2, 3, 5, 6, 7, 9, 12}"
      ]
     },
     "execution_count": 33,
     "metadata": {},
     "output_type": "execute_result"
    }
   ],
   "source": [
    "s = set(l1)\n",
    "s"
   ]
  },
  {
   "cell_type": "code",
   "execution_count": 34,
   "metadata": {},
   "outputs": [
    {
     "data": {
      "text/plain": [
       "{1, 2, 3, 5, 6, 7, 9, 12, 100}"
      ]
     },
     "execution_count": 34,
     "metadata": {},
     "output_type": "execute_result"
    }
   ],
   "source": [
    "s.add(100)\n",
    "s"
   ]
  },
  {
   "cell_type": "markdown",
   "metadata": {
    "tags": []
   },
   "source": [
    "# Dictionary\n",
    "* keys and values\n",
    "* keys are unique\n",
    "* values can be string,tuples,lists,sets,nested,"
   ]
  },
  {
   "cell_type": "code",
   "execution_count": 35,
   "metadata": {},
   "outputs": [
    {
     "data": {
      "text/plain": [
       "{'name': 'mario2', 'age': 34, 'family': 'ospina'}"
      ]
     },
     "execution_count": 35,
     "metadata": {},
     "output_type": "execute_result"
    }
   ],
   "source": [
    "dic1 = {\"name\":\"mario\",\"age\":34,\"family\":\"rivillas\",\"name\":\"mario2\",\"family\":\"ospina\"}\n",
    "dic1"
   ]
  },
  {
   "cell_type": "code",
   "execution_count": 36,
   "metadata": {},
   "outputs": [
    {
     "name": "stdin",
     "output_type": "stream",
     "text": [
      "provide a paragraph: mario esta estudiando mucho cada dia mucho mario\n"
     ]
    }
   ],
   "source": [
    "string1 = input(\"provide a paragraph:\")"
   ]
  },
  {
   "cell_type": "code",
   "execution_count": 39,
   "metadata": {},
   "outputs": [
    {
     "data": {
      "text/plain": [
       "['mario', 'esta', 'estudiando', 'mucho', 'cada', 'dia', 'mucho', 'mario']"
      ]
     },
     "execution_count": 39,
     "metadata": {},
     "output_type": "execute_result"
    }
   ],
   "source": [
    "list1 = string1.split()\n",
    "list1"
   ]
  },
  {
   "cell_type": "code",
   "execution_count": 40,
   "metadata": {},
   "outputs": [
    {
     "data": {
      "text/plain": [
       "{'cada', 'dia', 'esta', 'estudiando', 'mario', 'mucho'}"
      ]
     },
     "execution_count": 40,
     "metadata": {},
     "output_type": "execute_result"
    }
   ],
   "source": [
    "set1 = set(list1)\n",
    "set1"
   ]
  },
  {
   "cell_type": "code",
   "execution_count": 47,
   "metadata": {},
   "outputs": [
    {
     "data": {
      "text/plain": [
       "{'cada': 'mario',\n",
       " 'esta': 'mario',\n",
       " 'dia': 'mario',\n",
       " 'estudiando': 'mario',\n",
       " 'mario': 'mario',\n",
       " 'mucho': 'mario'}"
      ]
     },
     "execution_count": 47,
     "metadata": {},
     "output_type": "execute_result"
    }
   ],
   "source": [
    "dict1={}\n",
    "for i in set1:\n",
    "    dict1[i]=\"mario\"\n",
    "dict1"
   ]
  },
  {
   "cell_type": "code",
   "execution_count": 53,
   "metadata": {},
   "outputs": [
    {
     "data": {
      "text/plain": [
       "[('cada', 'mario'),\n",
       " ('esta', 'mario'),\n",
       " ('dia', 'mario'),\n",
       " ('estudiando', 'mario'),\n",
       " ('mario', 'mario'),\n",
       " ('mucho', 'mario')]"
      ]
     },
     "execution_count": 53,
     "metadata": {},
     "output_type": "execute_result"
    }
   ],
   "source": [
    "# from dictionary to list of tuples\n",
    "tuple_list=[]\n",
    "for k,v in dict1.items():\n",
    "    temp_tuple = (k,v)\n",
    "    tuple_list.append(temp_tuple)\n",
    "tuple_list"
   ]
  },
  {
   "cell_type": "code",
   "execution_count": 55,
   "metadata": {},
   "outputs": [
    {
     "data": {
      "text/plain": [
       "[('cada', 'mario'),\n",
       " ('esta', 'mario'),\n",
       " ('dia', 'mario'),\n",
       " ('estudiando', 'mario'),\n",
       " ('mario', 'mario'),\n",
       " ('mucho', 'mario')]"
      ]
     },
     "execution_count": 55,
     "metadata": {},
     "output_type": "execute_result"
    }
   ],
   "source": [
    "# from dict to list of tuples\n",
    "tuple_list1 = [(k,v) for k,v in dict1.items()]\n",
    "tuple_list1"
   ]
  },
  {
   "cell_type": "code",
   "execution_count": 56,
   "metadata": {},
   "outputs": [
    {
     "data": {
      "text/plain": [
       "{0: 0, 3: 9, 6: 36, 9: 81}"
      ]
     },
     "execution_count": 56,
     "metadata": {},
     "output_type": "execute_result"
    }
   ],
   "source": [
    "# dictionary comprehension\n",
    "\n",
    "{i:i*i for i in range(0,10,3)}"
   ]
  },
  {
   "cell_type": "markdown",
   "metadata": {},
   "source": [
    "# Functions"
   ]
  },
  {
   "cell_type": "markdown",
   "metadata": {},
   "source": [
    "# *ARGS\n",
    "* ability to pass serveral parameters\n",
    "* returns tuples"
   ]
  },
  {
   "cell_type": "code",
   "execution_count": 92,
   "metadata": {},
   "outputs": [],
   "source": [
    "def test(*args):   # ability to pass several arguments\n",
    "    temp = []\n",
    "    temp1 = []\n",
    "    for i in args:\n",
    "        if type(i) == list:   # if i want only to concatenate a list collection\n",
    "            temp.append(i)\n",
    "            temp1=i+temp1\n",
    "    return temp, temp1"
   ]
  },
  {
   "cell_type": "code",
   "execution_count": 93,
   "metadata": {},
   "outputs": [
    {
     "name": "stdout",
     "output_type": "stream",
     "text": [
      "[1, 3, 5, 7]\n",
      "[2, 4, 6, 8]\n"
     ]
    },
    {
     "data": {
      "text/plain": [
       "([[1, 3, 5, 7], [2, 4, 6, 8]], [2, 4, 6, 8, 1, 3, 5, 7])"
      ]
     },
     "execution_count": 93,
     "metadata": {},
     "output_type": "execute_result"
    }
   ],
   "source": [
    "l1=[1,3,5,7]\n",
    "l2=[2,4,6,8]\n",
    "print(l1)\n",
    "print(l2)\n",
    "\n",
    "test(l1,l2)"
   ]
  },
  {
   "cell_type": "code",
   "execution_count": 94,
   "metadata": {},
   "outputs": [
    {
     "data": {
      "text/plain": [
       "([[3, 5, 8, 'rivillas']], [3, 5, 8, 'rivillas'])"
      ]
     },
     "execution_count": 94,
     "metadata": {},
     "output_type": "execute_result"
    }
   ],
   "source": [
    "test(4,5,6,8,\"mario\",[3,5,8,\"rivillas\"])"
   ]
  },
  {
   "cell_type": "code",
   "execution_count": 95,
   "metadata": {},
   "outputs": [],
   "source": [
    "def test1(*args):   # ability to pass several arguments\n",
    "    return args"
   ]
  },
  {
   "cell_type": "code",
   "execution_count": 97,
   "metadata": {},
   "outputs": [
    {
     "data": {
      "text/plain": [
       "(4, 5, 6, 8, 'mario', [3, 5, 8, 'rivillas'])"
      ]
     },
     "execution_count": 97,
     "metadata": {},
     "output_type": "execute_result"
    }
   ],
   "source": [
    "# returns tuples\n",
    "test1(4,5,6,8,\"mario\",[3,5,8,\"rivillas\"])"
   ]
  },
  {
   "cell_type": "markdown",
   "metadata": {},
   "source": [
    "# **KWARGS\n",
    "* ability to pass serveral parameters as key/value pairs\n",
    "* returns dictionary"
   ]
  },
  {
   "cell_type": "code",
   "execution_count": 98,
   "metadata": {},
   "outputs": [],
   "source": [
    "\n",
    "def test2(**kwargs):   # ability to pass several arguments as key/value pairs\n",
    "    return kwargs\n",
    "    "
   ]
  },
  {
   "cell_type": "code",
   "execution_count": 99,
   "metadata": {},
   "outputs": [
    {
     "data": {
      "text/plain": [
       "{'a': 4, 'b': 56, 'c': 56}"
      ]
     },
     "execution_count": 99,
     "metadata": {},
     "output_type": "execute_result"
    }
   ],
   "source": [
    "test2(a=4,b=56,c=56)"
   ]
  },
  {
   "cell_type": "code",
   "execution_count": 101,
   "metadata": {},
   "outputs": [
    {
     "data": {
      "text/plain": [
       "{'A': 5, 'B': 'MARIO', 'C': [1, 2, 5, 'MARIO2']}"
      ]
     },
     "execution_count": 101,
     "metadata": {},
     "output_type": "execute_result"
    }
   ],
   "source": [
    "test2(A=5,B=\"MARIO\",C=[1,2,5,\"MARIO2\"])"
   ]
  },
  {
   "cell_type": "code",
   "execution_count": 116,
   "metadata": {},
   "outputs": [],
   "source": [
    "def test2(*args):   # ability to pass several arguments\n",
    "    temp_l = []\n",
    "    temp_d = []\n",
    "    temp_t = []\n",
    "    temp_o = []\n",
    "    for i in args:\n",
    "        if type(i) == list:   \n",
    "            temp_l.append(i)\n",
    "        elif type(i) == dict:\n",
    "             temp_d.append(i)\n",
    "        elif type(i) == tuple:\n",
    "            temp_t.append(i)\n",
    "        else:\n",
    "            temp_o.append(i)\n",
    "\n",
    "    return temp_l, temp_d, temp_t, temp_o"
   ]
  },
  {
   "cell_type": "code",
   "execution_count": 117,
   "metadata": {},
   "outputs": [
    {
     "data": {
      "text/plain": [
       "([[3, 5, 8, 'rivillas'], [4, 6, 9, 'ospina']],\n",
       " [{'name1': 'mario1', 'family1': 'riv1'},\n",
       "  {'name2': 'mario2', 'family2': 'riv2'}],\n",
       " [(5, 5), (6, 6), (7, 7)],\n",
       " [4, 5, 6, 8, 'mario'])"
      ]
     },
     "execution_count": 117,
     "metadata": {},
     "output_type": "execute_result"
    }
   ],
   "source": [
    "test2(4,5,6,8,\"mario\",[3,5,8,\"rivillas\"],[4,6,9,\"ospina\"],(5,5),(6,6),(7,7),{\"name1\":\"mario1\", \"family1\":\"riv1\"},{\"name2\":\"mario2\", \"family2\":\"riv2\"})"
   ]
  },
  {
   "cell_type": "code",
   "execution_count": 183,
   "metadata": {},
   "outputs": [],
   "source": [
    "def test2(*args):   # ability to pass several arguments\n",
    "    ltypes = set([type(i) for i in args])\n",
    "    lists = {}\n",
    "    for ltype in ltypes:\n",
    "        lists[ltype] = []   \n",
    "        for arg in args:\n",
    "            if ltype == type(arg):\n",
    "                lists[ltype].append(arg)\n",
    "    return lists                "
   ]
  },
  {
   "cell_type": "code",
   "execution_count": 184,
   "metadata": {},
   "outputs": [
    {
     "data": {
      "text/plain": [
       "{tuple: [(5, 5), (6, 6), (7, 7)],\n",
       " list: [[3, 5, 8, 'rivillas'], [4, 6, 9, 'ospina']],\n",
       " str: ['mario'],\n",
       " dict: [{'name1': 'mario1', 'family1': 'riv1'},\n",
       "  {'name2': 'mario2', 'family2': 'riv2'}],\n",
       " int: [4, 5, 6, 8]}"
      ]
     },
     "execution_count": 184,
     "metadata": {},
     "output_type": "execute_result"
    }
   ],
   "source": [
    "test2(4,5,6,8,\"mario\",[3,5,8,\"rivillas\"],[4,6,9,\"ospina\"],(5,5),(6,6),(7,7),{\"name1\":\"mario1\", \"family1\":\"riv1\"},{\"name2\":\"mario2\", \"family2\":\"riv2\"})"
   ]
  },
  {
   "cell_type": "code",
   "execution_count": null,
   "metadata": {},
   "outputs": [],
   "source": []
  },
  {
   "cell_type": "code",
   "execution_count": 121,
   "metadata": {},
   "outputs": [],
   "source": [
    "def test3(*args,**kwargs):\n",
    "    l_args = [i for i in args]\n",
    "    l_kwargs = [i[1] for i in kwargs.items()]\n",
    "    return l_args, l_kwargs\n",
    "    "
   ]
  },
  {
   "cell_type": "code",
   "execution_count": 123,
   "metadata": {},
   "outputs": [
    {
     "data": {
      "text/plain": [
       "([4,\n",
       "  5,\n",
       "  6,\n",
       "  8,\n",
       "  'mario',\n",
       "  [3, 5, 8, 'rivillas'],\n",
       "  [4, 6, 9, 'ospina'],\n",
       "  (5, 5),\n",
       "  (6, 6),\n",
       "  (7, 7),\n",
       "  {'name1': 'mario1', 'family1': 'riv1'},\n",
       "  {'name2': 'mario2', 'family2': 'riv2'}],\n",
       " [['sol', 'luna', 'marte'],\n",
       "  'soy libre',\n",
       "  {'agua': 'liquido', 'oxigeno': 'gas'}])"
      ]
     },
     "execution_count": 123,
     "metadata": {},
     "output_type": "execute_result"
    }
   ],
   "source": [
    "test3(4,5,6,8,\"mario\",[3,5,8,\"rivillas\"],[4,6,9,\"ospina\"],(5,5),(6,6),(7,7),{\"name1\":\"mario1\", \"family1\":\"riv1\"},{\"name2\":\"mario2\", \"family2\":\"riv2\"}\n",
    "      , a = [\"sol\",\"luna\",\"marte\"], b=\"soy libre\", c={\"agua\":\"liquido\", \"oxigeno\":\"gas\"})"
   ]
  },
  {
   "cell_type": "code",
   "execution_count": null,
   "metadata": {},
   "outputs": [],
   "source": []
  },
  {
   "cell_type": "code",
   "execution_count": null,
   "metadata": {},
   "outputs": [],
   "source": []
  }
 ],
 "metadata": {
  "kernelspec": {
   "display_name": "Python 3",
   "language": "python",
   "name": "python3"
  },
  "language_info": {
   "codemirror_mode": {
    "name": "ipython",
    "version": 3
   },
   "file_extension": ".py",
   "mimetype": "text/x-python",
   "name": "python",
   "nbconvert_exporter": "python",
   "pygments_lexer": "ipython3",
   "version": "3.6.5"
  }
 },
 "nbformat": 4,
 "nbformat_minor": 4
}
