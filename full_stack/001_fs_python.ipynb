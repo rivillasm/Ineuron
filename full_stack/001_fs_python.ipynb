{
 "cells": [
  {
   "cell_type": "code",
   "execution_count": 34,
   "metadata": {},
   "outputs": [
    {
     "name": "stdout",
     "output_type": "stream",
     "text": [
      "        0 1 2 3 4 5 \n",
      "         0 1 2 3 4 \n",
      "          0 1 2 3 \n",
      "           0 1 2 \n",
      "            0 1 \n",
      "             0 \n"
     ]
    }
   ],
   "source": [
    "n=5\n",
    "k=2*n-2\n",
    "\n",
    "for i in range(n,-1,-1):\n",
    "    #print(i)#, end=\" \")\n",
    "    for j in range(k,0,-1):\n",
    "        print(end=\" \")\n",
    "    k = k + 1\n",
    "    for l in range(0, i+1):\n",
    "        print(l,end=\" \")\n",
    "    print(\"\\r\")\n",
    "\n"
   ]
  },
  {
   "cell_type": "code",
   "execution_count": 55,
   "metadata": {},
   "outputs": [
    {
     "name": "stdout",
     "output_type": "stream",
     "text": [
      "               * \n",
      "              * * \n",
      "             * * * \n",
      "            * * * * \n",
      "           * * * * * \n",
      "          * * * * * * \n",
      "         * * * * * * * \n",
      "        * * * * * * * * \n",
      "       * * * * * * * * * \n",
      "      * * * * * * * * * * \n",
      "     * * * * * * * * * * * \n",
      "    * * * * * * * * * * * * \n",
      "   * * * * * * * * * * * * * \n",
      "  * * * * * * * * * * * * * * \n",
      " * * * * * * * * * * * * * * * \n",
      "* * * * * * * * * * * * * * * * \n"
     ]
    }
   ],
   "source": [
    "n = 15\n",
    "k=0\n",
    "while(k<n+1):\n",
    "    #print(n,k,n-k)\n",
    "    print(\" \"*(n-k) +\"* \"*(k+1))\n",
    "    k = k+1"
   ]
  },
  {
   "cell_type": "code",
   "execution_count": 56,
   "metadata": {},
   "outputs": [
    {
     "data": {
      "text/plain": [
       "2"
      ]
     },
     "execution_count": 56,
     "metadata": {},
     "output_type": "execute_result"
    }
   ],
   "source": [
    "s = \"mario rivillas\"\n",
    "\n",
    "s.find(\"rio\")"
   ]
  },
  {
   "cell_type": "code",
   "execution_count": 57,
   "metadata": {},
   "outputs": [
    {
     "data": {
      "text/plain": [
       "3"
      ]
     },
     "execution_count": 57,
     "metadata": {},
     "output_type": "execute_result"
    }
   ],
   "source": [
    "s.count(\"i\")"
   ]
  },
  {
   "cell_type": "code",
   "execution_count": 58,
   "metadata": {},
   "outputs": [
    {
     "data": {
      "text/plain": [
       "'marIo rIvIllas'"
      ]
     },
     "execution_count": 58,
     "metadata": {},
     "output_type": "execute_result"
    }
   ],
   "source": [
    "s.replace(\"i\",\"I\")"
   ]
  },
  {
   "cell_type": "code",
   "execution_count": 59,
   "metadata": {},
   "outputs": [
    {
     "data": {
      "text/plain": [
       "'we all are a part of full stack'"
      ]
     },
     "execution_count": 59,
     "metadata": {},
     "output_type": "execute_result"
    }
   ],
   "source": [
    "s = \"we all are a part of Full stack\"\n",
    "s.lower()"
   ]
  },
  {
   "cell_type": "code",
   "execution_count": 69,
   "metadata": {},
   "outputs": [
    {
     "data": {
      "text/plain": [
       "[3, 7, 11, 14, 28]"
      ]
     },
     "execution_count": 69,
     "metadata": {},
     "output_type": "execute_result"
    }
   ],
   "source": [
    "index_list = []\n",
    "for i,ltr in enumerate(s):\n",
    "    if ltr==\"a\":\n",
    "        index_list.append(i)\n",
    "index_list\n"
   ]
  },
  {
   "cell_type": "code",
   "execution_count": 73,
   "metadata": {},
   "outputs": [
    {
     "data": {
      "text/plain": [
       "[3, 7, 11, 14, 28]"
      ]
     },
     "execution_count": 73,
     "metadata": {},
     "output_type": "execute_result"
    }
   ],
   "source": [
    "index_list = [i for i in range(len(s)) if s[i]==\"a\"]\n",
    "index_list"
   ]
  },
  {
   "cell_type": "code",
   "execution_count": 70,
   "metadata": {},
   "outputs": [
    {
     "data": {
      "text/plain": [
       "'we ineuronll ineuronre ineuron pineuronrt of Full stineuronck'"
      ]
     },
     "execution_count": 70,
     "metadata": {},
     "output_type": "execute_result"
    }
   ],
   "source": [
    "s.replace(\"a\",\"ineuron\")"
   ]
  },
  {
   "cell_type": "code",
   "execution_count": 71,
   "metadata": {},
   "outputs": [
    {
     "data": {
      "text/plain": [
       "['we', 'all', 'are', 'a', 'part', 'of', 'Full', 'stack']"
      ]
     },
     "execution_count": 71,
     "metadata": {},
     "output_type": "execute_result"
    }
   ],
   "source": [
    "s.split()"
   ]
  },
  {
   "cell_type": "code",
   "execution_count": null,
   "metadata": {},
   "outputs": [],
   "source": []
  }
 ],
 "metadata": {
  "kernelspec": {
   "display_name": "Python 3",
   "language": "python",
   "name": "python3"
  },
  "language_info": {
   "codemirror_mode": {
    "name": "ipython",
    "version": 3
   },
   "file_extension": ".py",
   "mimetype": "text/x-python",
   "name": "python",
   "nbconvert_exporter": "python",
   "pygments_lexer": "ipython3",
   "version": "3.6.5"
  }
 },
 "nbformat": 4,
 "nbformat_minor": 4
}
