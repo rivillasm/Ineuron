{
 "cells": [
  {
   "cell_type": "markdown",
   "metadata": {},
   "source": [
    "# Exception handling"
   ]
  },
  {
   "cell_type": "code",
   "execution_count": 4,
   "metadata": {},
   "outputs": [
    {
     "name": "stdin",
     "output_type": "stream",
     "text": [
      " 0\n"
     ]
    },
    {
     "name": "stdout",
     "output_type": "stream",
     "text": [
      "there was a mistake. check the input value\n",
      "continue with my code\n"
     ]
    }
   ],
   "source": [
    "\n",
    "a = 5\n",
    "b = int(input())\n",
    "\n",
    "try:\n",
    "    a/b\n",
    "except:\n",
    "    print(\"there was a mistake. check the input value\")\n",
    "\n",
    "print(\"continue with my code\")"
   ]
  },
  {
   "cell_type": "code",
   "execution_count": 6,
   "metadata": {},
   "outputs": [
    {
     "name": "stdin",
     "output_type": "stream",
     "text": [
      " 0\n"
     ]
    },
    {
     "name": "stdout",
     "output_type": "stream",
     "text": [
      "there was a mistake. check the input value: division by zero\n",
      "continue with my code\n"
     ]
    }
   ],
   "source": [
    "a = 5\n",
    "b = int(input())\n",
    "\n",
    "try:\n",
    "    a/b\n",
    "except Exception as e:\n",
    "    print(\"there was a mistake. check the input value:\", e)\n",
    "\n",
    "print(\"continue with my code\")"
   ]
  },
  {
   "cell_type": "code",
   "execution_count": 9,
   "metadata": {},
   "outputs": [
    {
     "name": "stdout",
     "output_type": "stream",
     "text": [
      "this is the exception list index out of range\n",
      "\n",
      " continue with the code\n"
     ]
    }
   ],
   "source": [
    "a=15\n",
    "l=[1,2,3,4,5]\n",
    "\n",
    "try:\n",
    "    for i in range(len(l)+2):\n",
    "        a/l[i]\n",
    "except Exception as e:\n",
    "    print(\"this is the exception\", e)   # it gives you the first exception\n",
    "    \n",
    "print(\"\\n continue with the code\")\n",
    "\n",
    "\n"
   ]
  },
  {
   "cell_type": "code",
   "execution_count": 1,
   "metadata": {},
   "outputs": [
    {
     "name": "stdin",
     "output_type": "stream",
     "text": [
      " asdf\n"
     ]
    },
    {
     "name": "stdout",
     "output_type": "stream",
     "text": [
      "invalid literal for int() with base 10: 'asdf'\n"
     ]
    }
   ],
   "source": [
    "try:\n",
    "    d={\"key1\":\"value1\",\"key2\":[1,2,3,4,5],\"key3\":(6,7,8,9)}\n",
    "    d[\"key4\"]=int(input())\n",
    "except Exception as e:  # exception is a super class\n",
    "    print(e)\n",
    "    "
   ]
  },
  {
   "cell_type": "code",
   "execution_count": 5,
   "metadata": {},
   "outputs": [
    {
     "name": "stdin",
     "output_type": "stream",
     "text": [
      " 1234\n"
     ]
    },
    {
     "ename": "FileNotFoundError",
     "evalue": "[Errno 2] No such file or directory: 'test2'",
     "output_type": "error",
     "traceback": [
      "\u001b[1;31m---------------------------------------------------------------------------\u001b[0m",
      "\u001b[1;31mFileNotFoundError\u001b[0m                         Traceback (most recent call last)",
      "\u001b[1;32m<ipython-input-5-8562b5f294f6>\u001b[0m in \u001b[0;36m<module>\u001b[1;34m()\u001b[0m\n\u001b[0;32m      2\u001b[0m     \u001b[0md\u001b[0m\u001b[1;33m=\u001b[0m\u001b[1;33m{\u001b[0m\u001b[1;34m\"key1\"\u001b[0m\u001b[1;33m:\u001b[0m\u001b[1;34m\"value1\"\u001b[0m\u001b[1;33m,\u001b[0m\u001b[1;34m\"key2\"\u001b[0m\u001b[1;33m:\u001b[0m\u001b[1;33m[\u001b[0m\u001b[1;36m1\u001b[0m\u001b[1;33m,\u001b[0m\u001b[1;36m2\u001b[0m\u001b[1;33m,\u001b[0m\u001b[1;36m3\u001b[0m\u001b[1;33m,\u001b[0m\u001b[1;36m4\u001b[0m\u001b[1;33m,\u001b[0m\u001b[1;36m5\u001b[0m\u001b[1;33m]\u001b[0m\u001b[1;33m,\u001b[0m\u001b[1;34m\"key3\"\u001b[0m\u001b[1;33m:\u001b[0m\u001b[1;33m(\u001b[0m\u001b[1;36m6\u001b[0m\u001b[1;33m,\u001b[0m\u001b[1;36m7\u001b[0m\u001b[1;33m,\u001b[0m\u001b[1;36m8\u001b[0m\u001b[1;33m,\u001b[0m\u001b[1;36m9\u001b[0m\u001b[1;33m)\u001b[0m\u001b[1;33m}\u001b[0m\u001b[1;33m\u001b[0m\u001b[0m\n\u001b[0;32m      3\u001b[0m     \u001b[0md\u001b[0m\u001b[1;33m[\u001b[0m\u001b[1;34m\"key4\"\u001b[0m\u001b[1;33m]\u001b[0m\u001b[1;33m=\u001b[0m\u001b[0mint\u001b[0m\u001b[1;33m(\u001b[0m\u001b[0minput\u001b[0m\u001b[1;33m(\u001b[0m\u001b[1;33m)\u001b[0m\u001b[1;33m)\u001b[0m\u001b[1;33m\u001b[0m\u001b[0m\n\u001b[1;32m----> 4\u001b[1;33m     \u001b[0mf\u001b[0m\u001b[1;33m=\u001b[0m\u001b[0mopen\u001b[0m\u001b[1;33m(\u001b[0m\u001b[1;34m\"test2\"\u001b[0m\u001b[1;33m,\u001b[0m\u001b[1;34m\"r\"\u001b[0m\u001b[1;33m)\u001b[0m\u001b[1;33m\u001b[0m\u001b[0m\n\u001b[0m\u001b[0;32m      5\u001b[0m \u001b[1;32mexcept\u001b[0m \u001b[0mValueError\u001b[0m \u001b[1;32mas\u001b[0m \u001b[0me\u001b[0m\u001b[1;33m:\u001b[0m  \u001b[1;31m# exception ValueError is not a super class,\u001b[0m\u001b[1;33m\u001b[0m\u001b[0m\n\u001b[0;32m      6\u001b[0m                          \u001b[1;31m# onlye handles value error and not any type  of error\u001b[0m\u001b[1;33m\u001b[0m\u001b[1;33m\u001b[0m\u001b[0m\n",
      "\u001b[1;31mFileNotFoundError\u001b[0m: [Errno 2] No such file or directory: 'test2'"
     ]
    }
   ],
   "source": [
    "try:\n",
    "    d={\"key1\":\"value1\",\"key2\":[1,2,3,4,5],\"key3\":(6,7,8,9)}\n",
    "    d[\"key4\"]=int(input())\n",
    "    f=open(\"test2\",\"r\")\n",
    "except ValueError as e:  # exception ValueError is not a super class, \n",
    "                         # onlye handles value error and not any type  of error\n",
    "    print(e)\n",
    "    "
   ]
  },
  {
   "cell_type": "code",
   "execution_count": 7,
   "metadata": {},
   "outputs": [
    {
     "name": "stdin",
     "output_type": "stream",
     "text": [
      " 2345\n"
     ]
    },
    {
     "name": "stdout",
     "output_type": "stream",
     "text": [
      "[Errno 2] No such file or directory: 'test2'\n"
     ]
    }
   ],
   "source": [
    "# using multy type exception, it will call the corresponding (first found) value error from top to bottom\n",
    "\n",
    "try:\n",
    "    d={\"key1\":\"value1\",\"key2\":[1,2,3,4,5],\"key3\":(6,7,8,9)}\n",
    "    d[\"key4\"]=int(input())\n",
    "    f=open(\"test2\",\"r\")\n",
    "except ValueError as e:  # exception ValueError is not a super class, \n",
    "                         # onlye handles value error and not any type  of error\n",
    "    print(e)\n",
    "except FileNotFoundError as e:  # handles the error properly\n",
    "    print(e)"
   ]
  },
  {
   "cell_type": "code",
   "execution_count": 9,
   "metadata": {},
   "outputs": [
    {
     "name": "stdout",
     "output_type": "stream",
     "text": [
      "this will execute ONLY once my TRY block will be executed without any issue\n"
     ]
    }
   ],
   "source": [
    "try:\n",
    "    f=open(\"test1.txt\",\"w\")\n",
    "    f.write(\"this is my code in try\")\n",
    "except Exception as e:\n",
    "    print(\"this will handle an error\")\n",
    "else:   # ELSE gets executed ONLY if TRY block does not have any exepction\n",
    "    print(\"this will execute ONLY once my TRY block will be executed without any issue\")\n",
    "    f.close()"
   ]
  },
  {
   "cell_type": "code",
   "execution_count": 11,
   "metadata": {},
   "outputs": [
    {
     "name": "stdout",
     "output_type": "stream",
     "text": [
      "this will handle an error\n"
     ]
    }
   ],
   "source": [
    "try:\n",
    "    f=open(\"test1.txt\",\"r\")   \n",
    "    f.write(\"this is my code in try\")  # error here, trying to write in a file with only open access\n",
    "except Exception as e:\n",
    "    print(\"this will handle an error\")\n",
    "else:   # ELSE gets executed ONLY if TRY block does not have any exepction\n",
    "    print(\"this will execute ONLY once my TRY block will be executed without any issue\")\n",
    "    f.close()"
   ]
  },
  {
   "cell_type": "code",
   "execution_count": 12,
   "metadata": {},
   "outputs": [
    {
     "name": "stdout",
     "output_type": "stream",
     "text": [
      "this will handle an error\n",
      "FINALLY - ALWAYS gets executed, even if there is an exceptio in the code\n"
     ]
    }
   ],
   "source": [
    "try:\n",
    "    f=open(\"test5.txt\",\"r\")     # introduces an error test5 does not exist\n",
    "except Exception as e:\n",
    "    print(\"this will handle an error\")\n",
    "finally:   # FINALLY will ALWAYS gets executed even if TRY block does have an exepction\n",
    "    print(\"FINALLY - ALWAYS gets executed, even if there is an exceptio in the code\")\n",
    "    f.close()"
   ]
  },
  {
   "cell_type": "code",
   "execution_count": 14,
   "metadata": {},
   "outputs": [
    {
     "name": "stdout",
     "output_type": "stream",
     "text": [
      "ELSE executes when TRY is successful\n",
      "FINALLY - ALWAYS gets executed, even if there is an exceptio in the code\n"
     ]
    },
    {
     "ename": "FileNotFoundError",
     "evalue": "[Errno 2] No such file or directory: 'file6'",
     "output_type": "error",
     "traceback": [
      "\u001b[1;31m---------------------------------------------------------------------------\u001b[0m",
      "\u001b[1;31mFileNotFoundError\u001b[0m                         Traceback (most recent call last)",
      "\u001b[1;32m<ipython-input-14-0a7180dd3310>\u001b[0m in \u001b[0;36m<module>\u001b[1;34m()\u001b[0m\n\u001b[0;32m      7\u001b[0m \u001b[1;32mfinally\u001b[0m\u001b[1;33m:\u001b[0m   \u001b[1;31m# FINALLY will ALWAYS gets executed even if TRY block does have an exepction\u001b[0m\u001b[1;33m\u001b[0m\u001b[0m\n\u001b[0;32m      8\u001b[0m     \u001b[0mprint\u001b[0m\u001b[1;33m(\u001b[0m\u001b[1;34m\"FINALLY - ALWAYS gets executed, even if there is an exceptio in the code\"\u001b[0m\u001b[1;33m)\u001b[0m\u001b[1;33m\u001b[0m\u001b[0m\n\u001b[1;32m----> 9\u001b[1;33m     \u001b[0mf\u001b[0m\u001b[1;33m=\u001b[0m\u001b[0mopen\u001b[0m\u001b[1;33m(\u001b[0m\u001b[1;34m\"file6\"\u001b[0m\u001b[1;33m,\u001b[0m\u001b[1;34m\"r\"\u001b[0m\u001b[1;33m)\u001b[0m\u001b[1;33m\u001b[0m\u001b[0m\n\u001b[0m",
      "\u001b[1;31mFileNotFoundError\u001b[0m: [Errno 2] No such file or directory: 'file6'"
     ]
    }
   ],
   "source": [
    "try:\n",
    "    f=open(\"test5.txt\",\"w\")     # introduces an error test5 does not exist\n",
    "except Exception as e:\n",
    "    print(\"this will handle an error\")\n",
    "else:\n",
    "    print(\"ELSE executes when TRY is successful\")\n",
    "finally:   # FINALLY will ALWAYS gets executed even if TRY block does have an exepction\n",
    "    print(\"FINALLY - ALWAYS gets executed, even if there is an exceptio in the code\")\n",
    "    f=open(\"file6\",\"r\")  # this issue is not handled\n"
   ]
  },
  {
   "cell_type": "code",
   "execution_count": 16,
   "metadata": {},
   "outputs": [
    {
     "name": "stdout",
     "output_type": "stream",
     "text": [
      "ELSE executes when TRY is successful\n",
      "FINALLY - ALWAYS gets executed, even if there is an exceptio in the code\n",
      "fopen issue handled with exception [Errno 2] No such file or directory: 'file6'\n"
     ]
    }
   ],
   "source": [
    "try:\n",
    "    f=open(\"test5.txt\",\"w\")     # introduces an error test5 does not exist\n",
    "except Exception as e:\n",
    "    print(\"this will handle an error\")\n",
    "else:\n",
    "    print(\"ELSE executes when TRY is successful\")\n",
    "finally:   # FINALLY will ALWAYS gets executed even if TRY block does have an exepction\n",
    "    print(\"FINALLY - ALWAYS gets executed, even if there is an exceptio in the code\")\n",
    "    try:\n",
    "        f=open(\"file6\",\"r\")  # this issue is not handled\n",
    "    except Exception as e:\n",
    "        print(\"fopen issue handled with exception\",e)"
   ]
  },
  {
   "cell_type": "code",
   "execution_count": 19,
   "metadata": {},
   "outputs": [],
   "source": [
    "# write the exception within the body of the function\n",
    "\n",
    "def askint():\n",
    "    try:\n",
    "        a=int(input())\n",
    "        return a\n",
    "    except Exception as e:\n",
    "        print(\"this is the error\",e)"
   ]
  },
  {
   "cell_type": "code",
   "execution_count": 18,
   "metadata": {},
   "outputs": [
    {
     "name": "stdin",
     "output_type": "stream",
     "text": [
      " asdfsa\n"
     ]
    },
    {
     "name": "stdout",
     "output_type": "stream",
     "text": [
      "this is the error invalid literal for int() with base 10: 'asdfsa'\n"
     ]
    }
   ],
   "source": [
    "askint()\n"
   ]
  },
  {
   "cell_type": "code",
   "execution_count": 25,
   "metadata": {},
   "outputs": [],
   "source": [
    "def askint():\n",
    "    flag = True\n",
    "    while (flag):\n",
    "        try:\n",
    "            a=int(input())\n",
    "            if a is int:\n",
    "                break              \n",
    "        except Exception as e:\n",
    "            print(\"something is wrong, try again: \", e)\n",
    "        else:\n",
    "            return a\n",
    "        \n"
   ]
  },
  {
   "cell_type": "code",
   "execution_count": 26,
   "metadata": {},
   "outputs": [
    {
     "name": "stdin",
     "output_type": "stream",
     "text": [
      " 5\n"
     ]
    },
    {
     "data": {
      "text/plain": [
       "5"
      ]
     },
     "execution_count": 26,
     "metadata": {},
     "output_type": "execute_result"
    }
   ],
   "source": [
    "askint()"
   ]
  },
  {
   "cell_type": "code",
   "execution_count": 27,
   "metadata": {},
   "outputs": [
    {
     "name": "stdin",
     "output_type": "stream",
     "text": [
      " mario\n"
     ]
    },
    {
     "name": "stdout",
     "output_type": "stream",
     "text": [
      "something is wrong, try again:  invalid literal for int() with base 10: 'mario'\n"
     ]
    },
    {
     "name": "stdin",
     "output_type": "stream",
     "text": [
      " alejandro\n"
     ]
    },
    {
     "name": "stdout",
     "output_type": "stream",
     "text": [
      "something is wrong, try again:  invalid literal for int() with base 10: 'alejandro'\n"
     ]
    },
    {
     "name": "stdin",
     "output_type": "stream",
     "text": [
      " 5\n"
     ]
    },
    {
     "data": {
      "text/plain": [
       "5"
      ]
     },
     "execution_count": 27,
     "metadata": {},
     "output_type": "execute_result"
    }
   ],
   "source": [
    "askint()"
   ]
  },
  {
   "cell_type": "code",
   "execution_count": 1,
   "metadata": {},
   "outputs": [],
   "source": [
    "def askint1():\n",
    "    flag = True\n",
    "    while (flag):\n",
    "        try:\n",
    "            a=int(input(\"enter an integer:\"))\n",
    "            if type(a) == int:\n",
    "                flag=False\n",
    "                return a              \n",
    "        except Exception as e:\n",
    "            print(\"something is wrong, try again: \", e)\n"
   ]
  },
  {
   "cell_type": "code",
   "execution_count": 2,
   "metadata": {},
   "outputs": [
    {
     "name": "stdin",
     "output_type": "stream",
     "text": [
      "enter an integer: mario\n"
     ]
    },
    {
     "name": "stdout",
     "output_type": "stream",
     "text": [
      "something is wrong, try again:  invalid literal for int() with base 10: 'mario'\n"
     ]
    },
    {
     "name": "stdin",
     "output_type": "stream",
     "text": [
      "enter an integer: alejnadro\n"
     ]
    },
    {
     "name": "stdout",
     "output_type": "stream",
     "text": [
      "something is wrong, try again:  invalid literal for int() with base 10: 'alejnadro'\n"
     ]
    },
    {
     "name": "stdin",
     "output_type": "stream",
     "text": [
      "enter an integer: 45\n"
     ]
    },
    {
     "data": {
      "text/plain": [
       "45"
      ]
     },
     "execution_count": 2,
     "metadata": {},
     "output_type": "execute_result"
    }
   ],
   "source": [
    "askint1()"
   ]
  },
  {
   "cell_type": "code",
   "execution_count": 4,
   "metadata": {},
   "outputs": [],
   "source": [
    "def askint2():\n",
    "    flag=True\n",
    "    while(flag):\n",
    "        try:\n",
    "            a=int(input(\"enter a positive integer:\"))\n",
    "            if a > 0:\n",
    "                  flag=False\n",
    "                  return a\n",
    "            else:\n",
    "                  print(\"try again, check the input value:\",a)\n",
    "                  continue\n",
    "        except Exception as e:\n",
    "            print(\"something is wrong, try again: \", e)\n",
    "        "
   ]
  },
  {
   "cell_type": "code",
   "execution_count": 5,
   "metadata": {},
   "outputs": [
    {
     "name": "stdin",
     "output_type": "stream",
     "text": [
      "enter a positive integer: mario\n"
     ]
    },
    {
     "name": "stdout",
     "output_type": "stream",
     "text": [
      "something is wrong, try again:  invalid literal for int() with base 10: 'mario'\n"
     ]
    },
    {
     "name": "stdin",
     "output_type": "stream",
     "text": [
      "enter a positive integer: alejo\n"
     ]
    },
    {
     "name": "stdout",
     "output_type": "stream",
     "text": [
      "something is wrong, try again:  invalid literal for int() with base 10: 'alejo'\n"
     ]
    },
    {
     "name": "stdin",
     "output_type": "stream",
     "text": [
      "enter a positive integer: -100\n"
     ]
    },
    {
     "name": "stdout",
     "output_type": "stream",
     "text": [
      "try again, check the input value: -100\n"
     ]
    },
    {
     "name": "stdin",
     "output_type": "stream",
     "text": [
      "enter a positive integer: 0\n"
     ]
    },
    {
     "name": "stdout",
     "output_type": "stream",
     "text": [
      "try again, check the input value: 0\n"
     ]
    },
    {
     "name": "stdin",
     "output_type": "stream",
     "text": [
      "enter a positive integer: 1\n"
     ]
    },
    {
     "data": {
      "text/plain": [
       "1"
      ]
     },
     "execution_count": 5,
     "metadata": {},
     "output_type": "execute_result"
    }
   ],
   "source": [
    "askint2()"
   ]
  },
  {
   "cell_type": "code",
   "execution_count": 11,
   "metadata": {},
   "outputs": [
    {
     "ename": "Exception",
     "evalue": "('you have entered a negative value: ', -2)",
     "output_type": "error",
     "traceback": [
      "\u001b[1;31m---------------------------------------------------------------------------\u001b[0m",
      "\u001b[1;31mException\u001b[0m                                 Traceback (most recent call last)",
      "\u001b[1;32m<ipython-input-11-29c215d5eae8>\u001b[0m in \u001b[0;36m<module>\u001b[1;34m()\u001b[0m\n\u001b[0;32m      5\u001b[0m     \u001b[1;32mreturn\u001b[0m \u001b[0mnum\u001b[0m\u001b[1;33m\u001b[0m\u001b[0m\n\u001b[0;32m      6\u001b[0m \u001b[1;33m\u001b[0m\u001b[0m\n\u001b[1;32m----> 7\u001b[1;33m \u001b[0mrise_except\u001b[0m\u001b[1;33m(\u001b[0m\u001b[1;33m-\u001b[0m\u001b[1;36m2\u001b[0m\u001b[1;33m)\u001b[0m\u001b[1;33m\u001b[0m\u001b[0m\n\u001b[0m",
      "\u001b[1;32m<ipython-input-11-29c215d5eae8>\u001b[0m in \u001b[0;36mrise_except\u001b[1;34m(num)\u001b[0m\n\u001b[0;32m      2\u001b[0m \u001b[1;32mdef\u001b[0m \u001b[0mrise_except\u001b[0m\u001b[1;33m(\u001b[0m\u001b[0mnum\u001b[0m\u001b[1;33m)\u001b[0m\u001b[1;33m:\u001b[0m\u001b[1;33m\u001b[0m\u001b[0m\n\u001b[0;32m      3\u001b[0m     \u001b[1;32mif\u001b[0m \u001b[0mnum\u001b[0m \u001b[1;33m<\u001b[0m \u001b[1;36m0\u001b[0m\u001b[1;33m:\u001b[0m\u001b[1;33m\u001b[0m\u001b[0m\n\u001b[1;32m----> 4\u001b[1;33m         \u001b[1;32mraise\u001b[0m \u001b[0mException\u001b[0m\u001b[1;33m(\u001b[0m\u001b[1;34m\"you have entered a negative value: \"\u001b[0m\u001b[1;33m,\u001b[0m\u001b[0mnum\u001b[0m\u001b[1;33m)\u001b[0m  \u001b[1;31m# creates our own exception message\u001b[0m\u001b[1;33m\u001b[0m\u001b[0m\n\u001b[0m\u001b[0;32m      5\u001b[0m     \u001b[1;32mreturn\u001b[0m \u001b[0mnum\u001b[0m\u001b[1;33m\u001b[0m\u001b[0m\n\u001b[0;32m      6\u001b[0m \u001b[1;33m\u001b[0m\u001b[0m\n",
      "\u001b[1;31mException\u001b[0m: ('you have entered a negative value: ', -2)"
     ]
    }
   ],
   "source": [
    "# rise an exception\n",
    "def rise_except(num):\n",
    "    if num < 0:\n",
    "        raise Exception(\"you have entered a negative value: \",num)  # creates our own exception message\n",
    "    return num\n",
    "        \n",
    "rise_except(-2)"
   ]
  },
  {
   "cell_type": "code",
   "execution_count": 12,
   "metadata": {},
   "outputs": [
    {
     "ename": "ZeroDivisionError",
     "evalue": "('you have entered a negative value: ', -2)",
     "output_type": "error",
     "traceback": [
      "\u001b[1;31m---------------------------------------------------------------------------\u001b[0m",
      "\u001b[1;31mZeroDivisionError\u001b[0m                         Traceback (most recent call last)",
      "\u001b[1;32m<ipython-input-12-1b4d1f2f496b>\u001b[0m in \u001b[0;36m<module>\u001b[1;34m()\u001b[0m\n\u001b[0;32m      5\u001b[0m     \u001b[1;32mreturn\u001b[0m \u001b[0mnum\u001b[0m\u001b[1;33m\u001b[0m\u001b[0m\n\u001b[0;32m      6\u001b[0m \u001b[1;33m\u001b[0m\u001b[0m\n\u001b[1;32m----> 7\u001b[1;33m \u001b[0mrise_except\u001b[0m\u001b[1;33m(\u001b[0m\u001b[1;33m-\u001b[0m\u001b[1;36m2\u001b[0m\u001b[1;33m)\u001b[0m\u001b[1;33m\u001b[0m\u001b[0m\n\u001b[0m",
      "\u001b[1;32m<ipython-input-12-1b4d1f2f496b>\u001b[0m in \u001b[0;36mrise_except\u001b[1;34m(num)\u001b[0m\n\u001b[0;32m      2\u001b[0m \u001b[1;32mdef\u001b[0m \u001b[0mrise_except\u001b[0m\u001b[1;33m(\u001b[0m\u001b[0mnum\u001b[0m\u001b[1;33m)\u001b[0m\u001b[1;33m:\u001b[0m\u001b[1;33m\u001b[0m\u001b[0m\n\u001b[0;32m      3\u001b[0m     \u001b[1;32mif\u001b[0m \u001b[0mnum\u001b[0m \u001b[1;33m<\u001b[0m \u001b[1;36m0\u001b[0m\u001b[1;33m:\u001b[0m\u001b[1;33m\u001b[0m\u001b[0m\n\u001b[1;32m----> 4\u001b[1;33m         \u001b[1;32mraise\u001b[0m \u001b[0mZeroDivisionError\u001b[0m\u001b[1;33m(\u001b[0m\u001b[1;34m\"you have entered a negative value: \"\u001b[0m\u001b[1;33m,\u001b[0m\u001b[0mnum\u001b[0m\u001b[1;33m)\u001b[0m  \u001b[1;31m# creates our own exception message\u001b[0m\u001b[1;33m\u001b[0m\u001b[0m\n\u001b[0m\u001b[0;32m      5\u001b[0m     \u001b[1;32mreturn\u001b[0m \u001b[0mnum\u001b[0m\u001b[1;33m\u001b[0m\u001b[0m\n\u001b[0;32m      6\u001b[0m \u001b[1;33m\u001b[0m\u001b[0m\n",
      "\u001b[1;31mZeroDivisionError\u001b[0m: ('you have entered a negative value: ', -2)"
     ]
    }
   ],
   "source": [
    "# rise an exception\n",
    "def rise_except(num):\n",
    "    if num < 0:\n",
    "        raise ZeroDivisionError(\"you have entered a negative value: \",num)  # creates our own error message\n",
    "    return num\n",
    "        \n",
    "rise_except(-2)"
   ]
  },
  {
   "cell_type": "code",
   "execution_count": 13,
   "metadata": {},
   "outputs": [],
   "source": [
    "import logging"
   ]
  },
  {
   "cell_type": "code",
   "execution_count": 14,
   "metadata": {},
   "outputs": [],
   "source": [
    "logging.basicConfig(filename=\"test.log\")  # creates a logging file"
   ]
  },
  {
   "cell_type": "code",
   "execution_count": 15,
   "metadata": {},
   "outputs": [
    {
     "data": {
      "text/plain": [
       "'C:\\\\Users\\\\rivil\\\\DataCampINeuron\\\\full_stack'"
      ]
     },
     "execution_count": 15,
     "metadata": {},
     "output_type": "execute_result"
    }
   ],
   "source": [
    "pwd()"
   ]
  },
  {
   "cell_type": "code",
   "execution_count": null,
   "metadata": {},
   "outputs": [],
   "source": []
  }
 ],
 "metadata": {
  "kernelspec": {
   "display_name": "Python 3",
   "language": "python",
   "name": "python3"
  },
  "language_info": {
   "codemirror_mode": {
    "name": "ipython",
    "version": 3
   },
   "file_extension": ".py",
   "mimetype": "text/x-python",
   "name": "python",
   "nbconvert_exporter": "python",
   "pygments_lexer": "ipython3",
   "version": "3.6.5"
  }
 },
 "nbformat": 4,
 "nbformat_minor": 4
}
